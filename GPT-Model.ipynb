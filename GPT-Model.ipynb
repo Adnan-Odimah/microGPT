{
 "cells": [
  {
   "cell_type": "markdown",
   "id": "1fd631be",
   "metadata": {},
   "source": [
    "# This is my first expirementational code with a GPT model\n",
    " I am following a tutorial made by Andrej Karpathy and plan on adding my own stuff throughout the process to improve my gained knowledge and understanding.\n",
    "\n",
    "\n",
    "### First we start off by downloading this tinyshakespeare text.\n",
    " This wil be our starting data set for the transformer."
   ]
  },
  {
   "cell_type": "code",
   "execution_count": 4,
   "id": "65bf2ba1-5490-4fc8-91d9-d8359b4efc52",
   "metadata": {},
   "outputs": [
    {
     "name": "stdout",
     "output_type": "stream",
     "text": [
      "--2025-03-14 16:22:48--  https://raw.githubusercontent.com/karpathy/char-rnn/master/data/tinyshakespeare/input.txt\n",
      "Resolving raw.githubusercontent.com (raw.githubusercontent.com)... 185.199.111.133, 185.199.110.133, 185.199.109.133, ...\n",
      "Connecting to raw.githubusercontent.com (raw.githubusercontent.com)|185.199.111.133|:443... connected.\n",
      "HTTP request sent, awaiting response... 200 OK\n",
      "Length: 1115394 (1.1M) [text/plain]\n",
      "Saving to: ‘input.txt.1’\n",
      "\n",
      "input.txt.1         100%[===================>]   1.06M  --.-KB/s    in 0.1s    \n",
      "\n",
      "2025-03-14 16:22:49 (7.47 MB/s) - ‘input.txt.1’ saved [1115394/1115394]\n",
      "\n"
     ]
    }
   ],
   "source": [
    "!wget https://raw.githubusercontent.com/karpathy/char-rnn/master/data/tinyshakespeare/input.txt"
   ]
  },
  {
   "cell_type": "code",
   "execution_count": 1,
   "id": "bb16f6de",
   "metadata": {},
   "outputs": [],
   "source": [
    "with open('input.txt', 'r') as file:\n",
    "    text = file.read()"
   ]
  },
  {
   "cell_type": "code",
   "execution_count": 2,
   "id": "fdb4fbed",
   "metadata": {},
   "outputs": [
    {
     "name": "stdout",
     "output_type": "stream",
     "text": [
      "1115394\n"
     ]
    }
   ],
   "source": [
    "print(len(text))"
   ]
  },
  {
   "cell_type": "markdown",
   "id": "ab909cef",
   "metadata": {},
   "source": [
    "Here we are defining out vocabulary set. We do this by getting rid of the duplicates, then sorting it."
   ]
  },
  {
   "cell_type": "code",
   "execution_count": 3,
   "id": "6c41009a",
   "metadata": {},
   "outputs": [
    {
     "name": "stdout",
     "output_type": "stream",
     "text": [
      "\n",
      " !$&',-.3:;?ABCDEFGHIJKLMNOPQRSTUVWXYZabcdefghijklmnopqrstuvwxyz\n",
      "65\n"
     ]
    }
   ],
   "source": [
    "chars = sorted(list(set(text)))\n",
    "vocab_size = len(chars)\n",
    "print(''.join(chars))\n",
    "print(vocab_size)"
   ]
  },
  {
   "cell_type": "markdown",
   "id": "67a74f62",
   "metadata": {},
   "source": [
    "Now we are doing the encoding and decoding. This is done in the following way:\n",
    "we create lookup tables (dictionaries) from number to characters and vice-versa.\n",
    "Then when encoding, we find the index of the characters in the given string, and return the array of indices.\n",
    "As expected, for decoding, we get the collection of characters and join them together according to the given array of indices."
   ]
  },
  {
   "cell_type": "code",
   "execution_count": 4,
   "id": "86fab74f",
   "metadata": {},
   "outputs": [],
   "source": [
    "stoi = { ch:i for i,ch in enumerate(chars) }\n",
    "itos = { i:ch for i,ch in enumerate(chars) }\n",
    "\n",
    "def encode(s):\n",
    "    return [stoi[c] for c in s]\n",
    "\n",
    "def decode(l):\n",
    "    return ''.join([itos[i] for i in l])"
   ]
  },
  {
   "cell_type": "code",
   "execution_count": 5,
   "id": "6511822e",
   "metadata": {},
   "outputs": [
    {
     "name": "stdout",
     "output_type": "stream",
     "text": [
      "[46, 43, 50, 50, 53]\n",
      "hello\n"
     ]
    }
   ],
   "source": [
    "encoded_hello = encode(\"hello\")\n",
    "decoded_hello = decode(encoded_hello)\n",
    "print(encoded_hello)\n",
    "print(decoded_hello)\n"
   ]
  },
  {
   "cell_type": "markdown",
   "id": "c493bf7f",
   "metadata": {},
   "source": [
    "In our case, we are using a very simple technique/method. This has its tradeoffs. This simplicity will make it easier to get a \"finished\" product, and results in easier and less complex encode and decode functions. However, there are alternatives that use much larger vocabularies (using subphrases - I believe) that results in a smaller result when encoding. I am assuming that this results in an improvement to the speed of the model at the trade off of complexity and a larger vocabulary size (storage size)."
   ]
  },
  {
   "cell_type": "code",
   "execution_count": 6,
   "id": "bd661ae3",
   "metadata": {},
   "outputs": [
    {
     "name": "stdout",
     "output_type": "stream",
     "text": [
      "Requirement already satisfied: torch in ./venv/lib/python3.12/site-packages (2.6.0)\n",
      "Requirement already satisfied: filelock in ./venv/lib/python3.12/site-packages (from torch) (3.18.0)\n",
      "Requirement already satisfied: typing-extensions>=4.10.0 in ./venv/lib/python3.12/site-packages (from torch) (4.13.0)\n",
      "Requirement already satisfied: networkx in ./venv/lib/python3.12/site-packages (from torch) (3.4.2)\n",
      "Requirement already satisfied: jinja2 in ./venv/lib/python3.12/site-packages (from torch) (3.1.6)\n",
      "Requirement already satisfied: fsspec in ./venv/lib/python3.12/site-packages (from torch) (2025.3.0)\n",
      "Requirement already satisfied: setuptools in ./venv/lib/python3.12/site-packages (from torch) (78.1.0)\n",
      "Requirement already satisfied: sympy==1.13.1 in ./venv/lib/python3.12/site-packages (from torch) (1.13.1)\n",
      "Requirement already satisfied: mpmath<1.4,>=1.1.0 in ./venv/lib/python3.12/site-packages (from sympy==1.13.1->torch) (1.3.0)\n",
      "Requirement already satisfied: MarkupSafe>=2.0 in ./venv/lib/python3.12/site-packages (from jinja2->torch) (3.0.2)\n",
      "\n",
      "\u001b[1m[\u001b[0m\u001b[34;49mnotice\u001b[0m\u001b[1;39;49m]\u001b[0m\u001b[39;49m A new release of pip is available: \u001b[0m\u001b[31;49m23.2.1\u001b[0m\u001b[39;49m -> \u001b[0m\u001b[32;49m25.0.1\u001b[0m\n",
      "\u001b[1m[\u001b[0m\u001b[34;49mnotice\u001b[0m\u001b[1;39;49m]\u001b[0m\u001b[39;49m To update, run: \u001b[0m\u001b[32;49mpip install --upgrade pip\u001b[0m\n",
      "Note: you may need to restart the kernel to use updated packages.\n"
     ]
    }
   ],
   "source": [
    "%pip install torch"
   ]
  },
  {
   "cell_type": "code",
   "execution_count": 7,
   "id": "818fe888",
   "metadata": {},
   "outputs": [
    {
     "name": "stderr",
     "output_type": "stream",
     "text": [
      "/Volumes/2Tb-ext/Coding Projects/Python/AI/Gpt-model/venv/lib/python3.12/site-packages/torch/_subclasses/functional_tensor.py:275: UserWarning: Failed to initialize NumPy: No module named 'numpy' (Triggered internally at /Users/runner/work/pytorch/pytorch/pytorch/torch/csrc/utils/tensor_numpy.cpp:81.)\n",
      "  cpu = _conversion_method_template(device=torch.device(\"cpu\"))\n"
     ]
    }
   ],
   "source": [
    "import torch"
   ]
  },
  {
   "cell_type": "markdown",
   "id": "74e79a64",
   "metadata": {},
   "source": [
    "Now, we are encoding all the text in the little shakespeare dataset.\n"
   ]
  },
  {
   "cell_type": "code",
   "execution_count": 8,
   "id": "57048fc2",
   "metadata": {},
   "outputs": [
    {
     "name": "stdout",
     "output_type": "stream",
     "text": [
      "torch.Size([1115394]) torch.int64\n",
      "tensor([18, 47, 56, 57, 58,  1, 15, 47, 58, 47, 64, 43, 52, 10,  0, 14, 43, 44,\n",
      "        53, 56, 43,  1, 61, 43,  1, 54, 56, 53, 41, 43, 43, 42,  1, 39, 52, 63,\n",
      "         1, 44, 59, 56, 58, 46, 43, 56,  6,  1, 46, 43, 39, 56,  1, 51, 43,  1,\n",
      "        57, 54, 43, 39, 49,  8,  0,  0, 13, 50, 50, 10,  0, 31, 54, 43, 39, 49,\n",
      "         6,  1, 57, 54, 43, 39, 49,  8,  0,  0, 18, 47, 56, 57, 58,  1, 15, 47,\n",
      "        58, 47, 64, 43, 52, 10,  0, 37, 53, 59])\n"
     ]
    }
   ],
   "source": [
    "data = torch.tensor(encode(text), dtype=torch.long)\n",
    "print(data.shape, data.dtype)\n",
    "print(data[:100])"
   ]
  },
  {
   "cell_type": "markdown",
   "id": "74552177",
   "metadata": {},
   "source": [
    "Let's split into a training and validation data set now."
   ]
  },
  {
   "cell_type": "code",
   "execution_count": 9,
   "id": "5b4779be",
   "metadata": {},
   "outputs": [],
   "source": [
    "split = int(0.85*len(data))\n",
    "\n",
    "train_data = data[:split]\n",
    "val_data = data[split:]\n"
   ]
  },
  {
   "cell_type": "code",
   "execution_count": 10,
   "id": "5db6f246",
   "metadata": {},
   "outputs": [
    {
     "data": {
      "text/plain": [
       "tensor([18, 47, 56, 57, 58,  1, 15, 47, 58])"
      ]
     },
     "execution_count": 10,
     "metadata": {},
     "output_type": "execute_result"
    }
   ],
   "source": [
    "block_size = 8\n",
    "\n",
    "train_data[:block_size+1]"
   ]
  },
  {
   "cell_type": "markdown",
   "id": "310a640c",
   "metadata": {},
   "source": [
    "the point of doing it like this is: the model gets used to understanding the sequence of characters etc.\n",
    "But most importantly, for generation, it is trained to start off with just 1 character of context."
   ]
  },
  {
   "cell_type": "code",
   "execution_count": 11,
   "id": "48b9ff21",
   "metadata": {},
   "outputs": [
    {
     "name": "stdout",
     "output_type": "stream",
     "text": [
      "when input is tensor([18]) target: 47\n",
      "when input is tensor([18, 47]) target: 56\n",
      "when input is tensor([18, 47, 56]) target: 57\n",
      "when input is tensor([18, 47, 56, 57]) target: 58\n",
      "when input is tensor([18, 47, 56, 57, 58]) target: 1\n",
      "when input is tensor([18, 47, 56, 57, 58,  1]) target: 15\n",
      "when input is tensor([18, 47, 56, 57, 58,  1, 15]) target: 47\n",
      "when input is tensor([18, 47, 56, 57, 58,  1, 15, 47]) target: 58\n"
     ]
    }
   ],
   "source": [
    "x = train_data[:block_size]\n",
    "y = train_data[1:block_size+1]\n",
    "for t in range( block_size):\n",
    "    context = x[:t+1]\n",
    "    target = y[t]\n",
    "    print(f'when input is {context} target: {target}')"
   ]
  },
  {
   "cell_type": "code",
   "execution_count": 16,
   "id": "6b280238",
   "metadata": {},
   "outputs": [],
   "source": [
    "torch.manual_seed(1337) #pointless* - just to get same numbers as the video\n",
    "\n",
    "batch_size = 4 # this is how many sequences we will process in parallel\n",
    "\n",
    "block_size = 8 # again, its how much the maximum length of context will be\n",
    "\n",
    "def get_batch(split: str) -> tuple:\n",
    "    data = train_data if split==\"train\" else val_data\n",
    "    ix = torch.randint(len(data) - block_size, (batch_size,))\n",
    "    # Create a tensor by stacking slices of data, each slice is of length block_size\n",
    "    x = torch.stack([\n",
    "        data[i:i+block_size]\n",
    "        for i in ix])\n",
    "    # Create a tensor by stacking slices of data, each slice is of length block_size\n",
    "    # but shifted by 1 position to the right to serve as the target output\n",
    "    y = torch.stack([\n",
    "        data[i+1: i+block_size+1]\n",
    "        for i in ix])\n",
    "    return x, y\n",
    "\n",
    "xb, yb = get_batch('train')\n"
   ]
  },
  {
   "cell_type": "code",
   "execution_count": 17,
   "id": "c15e787d",
   "metadata": {},
   "outputs": [
    {
     "name": "stdout",
     "output_type": "stream",
     "text": [
      "inputs:\n",
      "torch.Size([4, 8])\n",
      "tensor([[53, 61, 57, 10,  0, 20, 43,  1],\n",
      "        [39, 41, 43, 42,  1, 58, 46, 43],\n",
      "        [52, 41, 43,  8,  0,  0, 24, 17],\n",
      "        [26, 33, 31, 10,  0, 25, 53, 57]])\n",
      "targets:\n",
      "torch.Size([4, 8])\n",
      "----\n",
      "when input is [53]  | target: 61\n",
      "when input is [53, 61]  | target: 57\n",
      "when input is [53, 61, 57]  | target: 10\n",
      "when input is [53, 61, 57, 10]  | target: 0\n",
      "when input is [53, 61, 57, 10, 0]  | target: 20\n",
      "when input is [53, 61, 57, 10, 0, 20]  | target: 43\n",
      "when input is [53, 61, 57, 10, 0, 20, 43]  | target: 1\n",
      "when input is [53, 61, 57, 10, 0, 20, 43, 1]  | target: 58\n",
      "when input is [39]  | target: 41\n",
      "when input is [39, 41]  | target: 43\n",
      "when input is [39, 41, 43]  | target: 42\n",
      "when input is [39, 41, 43, 42]  | target: 1\n",
      "when input is [39, 41, 43, 42, 1]  | target: 58\n",
      "when input is [39, 41, 43, 42, 1, 58]  | target: 46\n",
      "when input is [39, 41, 43, 42, 1, 58, 46]  | target: 43\n",
      "when input is [39, 41, 43, 42, 1, 58, 46, 43]  | target: 1\n",
      "when input is [52]  | target: 41\n",
      "when input is [52, 41]  | target: 43\n",
      "when input is [52, 41, 43]  | target: 8\n",
      "when input is [52, 41, 43, 8]  | target: 0\n",
      "when input is [52, 41, 43, 8, 0]  | target: 0\n",
      "when input is [52, 41, 43, 8, 0, 0]  | target: 24\n",
      "when input is [52, 41, 43, 8, 0, 0, 24]  | target: 17\n",
      "when input is [52, 41, 43, 8, 0, 0, 24, 17]  | target: 27\n",
      "when input is [26]  | target: 33\n",
      "when input is [26, 33]  | target: 31\n",
      "when input is [26, 33, 31]  | target: 10\n",
      "when input is [26, 33, 31, 10]  | target: 0\n",
      "when input is [26, 33, 31, 10, 0]  | target: 25\n",
      "when input is [26, 33, 31, 10, 0, 25]  | target: 53\n",
      "when input is [26, 33, 31, 10, 0, 25, 53]  | target: 57\n",
      "when input is [26, 33, 31, 10, 0, 25, 53, 57]  | target: 58\n"
     ]
    }
   ],
   "source": [
    "print('inputs:')\n",
    "print(xb.shape)\n",
    "print(xb)\n",
    "print('targets:')\n",
    "print(yb.shape)\n",
    "\n",
    "print('----')\n",
    "\n",
    "for b in range(batch_size):\n",
    "    for t in range(block_size):\n",
    "        context = xb[b, : t + 1]\n",
    "        target = yb[b, t]\n",
    "        print(f\"when input is {context.tolist()}  | target: {target}\")\n"
   ]
  },
  {
   "cell_type": "code",
   "execution_count": null,
   "id": "5ed11cb4",
   "metadata": {},
   "outputs": [
    {
     "name": "stdout",
     "output_type": "stream",
     "text": [
      "torch.Size([32, 65])\n",
      "tensor(4.9670, grad_fn=<NllLossBackward0>)\n",
      "\n",
      "SKIcLT;AcELMoTbvZv C?nq-QE33:CJqkOKH-q;:la!oiywkHjgChzbQ?u!3bLIgwevmyFJGUGp\n",
      "wnYWmnxKWWev-tDqXErVKLgJ\n"
     ]
    }
   ],
   "source": [
    "import torch\n",
    "import torch.nn as nn\n",
    "from torch.nn import functional as F\n",
    "torch.manual_seed(1337)\n",
    "\n",
    "class BigramLM(nn.Module):\n",
    "    def __init__(self, vocab_size):\n",
    "        super().__init__()\n",
    "        self.token_embedding_table = nn.Embedding(vocab_size, vocab_size)\n",
    "        # creating a 65 x 65 table\n",
    "\n",
    "    def forward(self, idx, targets= None):\n",
    "\n",
    "        # so what we're doing is:\n",
    "        # we pass in the index, and get that row. I assume this will be the things that usually follow the passed in encoded value?\n",
    "        logits = self.token_embedding_table(idx) # (B, T, C) B = batch | T = Time | C = vocab\n",
    "\n",
    "        if targets is None:\n",
    "            loss = None\n",
    "        else:\n",
    "            B, T, C = logits.shape\n",
    "            logits = logits.view(B*T, C)\n",
    "            targets = targets.view(B*T)\n",
    "\n",
    "            loss = F.cross_entropy(logits, targets) # this figures out how well we are predicting the next character\n",
    "        # targets is passed in (training data so we know expected output)\n",
    "        # this however doesn't work because: targets currently is (B x T) x C but torch wants it in the form BxCxT\n",
    "        # so we need to reshape logits\n",
    "\n",
    "        return logits, loss\n",
    "\n",
    "    def generate(self, idx, max_new_tokens) -> int:\n",
    "        \"\"\" to summarize:\n",
    "\n",
    "        this takes the passed indices, then generates tokens (max_new_tokens is the number of tokens we generate)\n",
    "        and return the passed in indices with the generated ones appended on it.\n",
    "        Basicaly, we give it \"he\" and the number 3, then expect \"hello\" (as an example)\n",
    "        This is done using probabilities\n",
    "\n",
    "        T is removed as we only care about going in sequence rather than moving through time arbitrarily.\n",
    "        \"\"\"\n",
    "\n",
    "\n",
    "        # IDX is (B , T) array of indicies (current context)\n",
    "        for _ in range(max_new_tokens):\n",
    "            logits, loss = self(idx)\n",
    "            # focus on last time step\n",
    "            logits = logits[:, -1, :] # gives it in the form (B, C)\n",
    "            # softamx to get probabilities\n",
    "            probs = F.softmax(logits, dim=-1) # (B, C)\n",
    "            # Get a smaple from the distribution\n",
    "            idx_next = torch.multinomial(probs, num_samples=1) # (B, 1)\n",
    "            # add sampled to the current sequence (kind of like autocomplete?)\n",
    "            idx = torch.cat((idx, idx_next), dim=1) # (B, T+1)\n",
    "\n",
    "        return idx\n",
    "\n",
    "m = BigramLM(vocab_size)\n",
    "out, loss = m(xb, yb)\n",
    "print(out.shape)\n",
    "print(loss)\n",
    "# expected loss = -ln(1/vocab_size)\n",
    "idx = torch.zeros((1, 1), dtype=torch.long) # we pass in the zero character in our vocab (aka new line) This helps with automated text generation\n",
    "# if we pass in something else, it will work more like autocorrect rather than text generation\n",
    "print(decode(m.generate(idx, max_new_tokens=100)[0].tolist()))\n",
    "# so we are generating 100 new tokens, with the new line passed in. Then turning it into a list and decoding it from the encoded vocab calues\n",
    "# right now, this is completely random so we need to train it\n",
    "# right now the generate function is a bigram model, however, we still pass in all the tokens, this is so we don't have to change it later when its better."
   ]
  },
  {
   "cell_type": "code",
   "execution_count": 22,
   "id": "27d24058",
   "metadata": {},
   "outputs": [],
   "source": [
    "optimizer = torch.optim.AdamW(m.parameters(),lr=1e-3)\n"
   ]
  },
  {
   "cell_type": "code",
   "execution_count": 28,
   "id": "34b21ee2",
   "metadata": {},
   "outputs": [
    {
     "name": "stdout",
     "output_type": "stream",
     "text": [
      "2.486915111541748\n"
     ]
    }
   ],
   "source": [
    "batch_size = 32\n",
    "for steps in range(50000):\n",
    "\n",
    "    xb, yb= get_batch('train')\n",
    "\n",
    "    logits, loss = m(xb, yb)\n",
    "    optimizer.zero_grad()\n",
    "    loss.backward()\n",
    "    optimizer.step()\n",
    "\n",
    "print(loss.item())"
   ]
  },
  {
   "cell_type": "code",
   "execution_count": 30,
   "id": "e53d9e06",
   "metadata": {},
   "outputs": [
    {
     "name": "stdout",
     "output_type": "stream",
     "text": [
      "\n",
      "SCETULou wan th w gos lleeerdot andouedsstt:\n",
      "POLowar, au; ce a ofandur llains.\n",
      "ENGurimerdo I n trerd tr hor,\n",
      "t O:\n",
      "Bemp o wo. is merd Me annde misequ VORos o bel.\n",
      "'d, hethoor f VO:\n",
      "Gok h, avelemug,\n",
      "QUpiben.\n",
      "ARCoouro t ais obyou oung we veave, Mizeefs urorth trathr Foopam\n",
      "\n",
      "NLORowe ht! dg\n",
      "Toith wh.\n",
      "T: m; nisthiturive, inaves d ay t'l t we vy masthory LO:\n",
      "MENo:\n",
      "Wh nalcecide.\n",
      "Vourerds hatrearabenmy at Whtone jom, thesodve plll sowhe t seoon;\n",
      "NThtyoowinatit fou wimy an b, m---t, LI\n",
      "Se sine gsthe\n",
      "HAsat\n"
     ]
    }
   ],
   "source": [
    "print(decode(m.generate(idx, max_new_tokens=500)[0].tolist()))\n"
   ]
  },
  {
   "cell_type": "markdown",
   "id": "b1fd02de",
   "metadata": {},
   "source": [
    "Mathematical Trick in self-attention"
   ]
  },
  {
   "cell_type": "code",
   "execution_count": 31,
   "id": "43060493",
   "metadata": {},
   "outputs": [
    {
     "data": {
      "text/plain": [
       "torch.Size([4, 8, 2])"
      ]
     },
     "execution_count": 31,
     "metadata": {},
     "output_type": "execute_result"
    }
   ],
   "source": [
    "torch.manual_seed(1337)\n",
    "\n",
    "B,T,C = 4,8,2\n",
    "x = torch.randn(B,T,C)\n",
    "\n",
    "x.shape"
   ]
  },
  {
   "cell_type": "code",
   "execution_count": 33,
   "id": "93364d9c",
   "metadata": {},
   "outputs": [
    {
     "data": {
      "text/plain": [
       "torch.Size([4, 8, 2])"
      ]
     },
     "execution_count": 33,
     "metadata": {},
     "output_type": "execute_result"
    }
   ],
   "source": [
    "# tokens should only talk to tokens in the past\n",
    "# easiest way for tokens to communicate is to average over all the tokens in the past\n",
    "xbow = torch.zeros((B,T,C)) # x Bag of words\n",
    "for b in range(B):\n",
    "    for t in range(T):\n",
    "        xbow[b,t] = x[b,:t+1].mean(dim=0)\n",
    "xbow.shape\n",
    "\n",
    "# this is a very simple way to do it, but it doesn't take into account the context of the tokens\n"
   ]
  },
  {
   "cell_type": "code",
   "execution_count": null,
   "id": "4ed033a4",
   "metadata": {},
   "outputs": [],
   "source": []
  },
  {
   "cell_type": "code",
   "execution_count": 35,
   "id": "68642aae",
   "metadata": {},
   "outputs": [
    {
     "name": "stdout",
     "output_type": "stream",
     "text": [
      "tensor([[ 0.1808, -0.0700],\n",
      "        [-0.3596, -0.9152],\n",
      "        [ 0.6258,  0.0255],\n",
      "        [ 0.9545,  0.0643],\n",
      "        [ 0.3612,  1.1679],\n",
      "        [-1.3499, -0.5102],\n",
      "        [ 0.2360, -0.2398],\n",
      "        [-0.9211,  1.5433]])\n",
      "tensor([[ 0.1808, -0.0700],\n",
      "        [-0.0894, -0.4926],\n",
      "        [ 0.1490, -0.3199],\n",
      "        [ 0.3504, -0.2238],\n",
      "        [ 0.3525,  0.0545],\n",
      "        [ 0.0688, -0.0396],\n",
      "        [ 0.0927, -0.0682],\n",
      "        [-0.0341,  0.1332]])\n"
     ]
    }
   ],
   "source": [
    "print(x[0])\n",
    "\n",
    "print(xbow[0])"
   ]
  },
  {
   "cell_type": "code",
   "execution_count": 37,
   "id": "78bdeb2f",
   "metadata": {},
   "outputs": [
    {
     "data": {
      "text/plain": [
       "tensor([[1., 0., 0.],\n",
       "        [1., 1., 0.],\n",
       "        [1., 1., 1.]])"
      ]
     },
     "execution_count": 37,
     "metadata": {},
     "output_type": "execute_result"
    }
   ],
   "source": []
  },
  {
   "cell_type": "code",
   "execution_count": null,
   "id": "9204538c",
   "metadata": {},
   "outputs": [],
   "source": []
  },
  {
   "cell_type": "code",
   "execution_count": 39,
   "id": "32cdb2b7",
   "metadata": {},
   "outputs": [
    {
     "name": "stdout",
     "output_type": "stream",
     "text": [
      "tensor([[2.0000, 7.0000],\n",
      "        [4.0000, 5.5000],\n",
      "        [4.6667, 5.3333]])\n",
      "torch.Size([3, 2])\n"
     ]
    }
   ],
   "source": [
    "torch.manual_seed(42)\n",
    "a = torch.tril(torch.ones(3, 3))\n",
    "a = a / torch.sum(a, dim=1, keepdim=True) # to summarize, this gives us a matrix, where each row sums to 1.\n",
    "# the number of non-zero elements in each row is the number of tokens in the past that the token in the row talks to.\n",
    "b = torch.randint(0, 10, (3,2)).float()\n",
    "c = a @ b\n",
    "print(c)\n",
    "print(c.shape)\n"
   ]
  },
  {
   "cell_type": "code",
   "execution_count": null,
   "id": "abd628f3",
   "metadata": {},
   "outputs": [],
   "source": []
  },
  {
   "cell_type": "code",
   "execution_count": null,
   "id": "809d1473",
   "metadata": {},
   "outputs": [],
   "source": []
  },
  {
   "cell_type": "code",
   "execution_count": null,
   "id": "89441980",
   "metadata": {},
   "outputs": [],
   "source": []
  },
  {
   "cell_type": "code",
   "execution_count": null,
   "id": "140cd42e",
   "metadata": {},
   "outputs": [],
   "source": []
  },
  {
   "cell_type": "code",
   "execution_count": null,
   "id": "7ab17a15",
   "metadata": {},
   "outputs": [],
   "source": []
  },
  {
   "cell_type": "code",
   "execution_count": null,
   "id": "096874ad",
   "metadata": {},
   "outputs": [],
   "source": []
  },
  {
   "cell_type": "code",
   "execution_count": null,
   "id": "551331d2",
   "metadata": {},
   "outputs": [],
   "source": []
  },
  {
   "cell_type": "code",
   "execution_count": null,
   "id": "95e44fdd",
   "metadata": {},
   "outputs": [],
   "source": []
  },
  {
   "cell_type": "code",
   "execution_count": null,
   "id": "5a5ccd51",
   "metadata": {},
   "outputs": [],
   "source": []
  },
  {
   "cell_type": "code",
   "execution_count": null,
   "id": "8315d90b",
   "metadata": {},
   "outputs": [],
   "source": []
  },
  {
   "cell_type": "code",
   "execution_count": null,
   "id": "a58dc739",
   "metadata": {},
   "outputs": [],
   "source": []
  },
  {
   "cell_type": "code",
   "execution_count": null,
   "id": "237a5ecb",
   "metadata": {},
   "outputs": [],
   "source": []
  },
  {
   "cell_type": "code",
   "execution_count": null,
   "id": "34b48aaf",
   "metadata": {},
   "outputs": [],
   "source": []
  },
  {
   "cell_type": "code",
   "execution_count": null,
   "id": "20b9f463",
   "metadata": {},
   "outputs": [],
   "source": []
  }
 ],
 "metadata": {
  "kernelspec": {
   "display_name": "venv",
   "language": "python",
   "name": "python3"
  },
  "language_info": {
   "codemirror_mode": {
    "name": "ipython",
    "version": 3
   },
   "file_extension": ".py",
   "mimetype": "text/x-python",
   "name": "python",
   "nbconvert_exporter": "python",
   "pygments_lexer": "ipython3",
   "version": "3.12.0"
  }
 },
 "nbformat": 4,
 "nbformat_minor": 5
}
